{
 "cells": [
  {
   "cell_type": "code",
   "execution_count": 1,
   "id": "fc824895",
   "metadata": {},
   "outputs": [
    {
     "ename": "NameError",
     "evalue": "name 'final_df_copy' is not defined",
     "output_type": "error",
     "traceback": [
      "\u001b[1;31m---------------------------------------------------------------------------\u001b[0m",
      "\u001b[1;31mNameError\u001b[0m                                 Traceback (most recent call last)",
      "Cell \u001b[1;32mIn[1], line 3\u001b[0m\n\u001b[0;32m      1\u001b[0m batch_size \u001b[38;5;241m=\u001b[39m \u001b[38;5;241m20\u001b[39m \u001b[38;5;66;03m# 20 providers per batch\u001b[39;00m\n\u001b[0;32m      2\u001b[0m max_batches \u001b[38;5;241m=\u001b[39m \u001b[38;5;241m10\u001b[39m \u001b[38;5;66;03m# Only show 10 bbatches (200 providers)\u001b[39;00m\n\u001b[1;32m----> 3\u001b[0m sorted_providers \u001b[38;5;241m=\u001b[39m final_df_copy[\u001b[38;5;124m'\u001b[39m\u001b[38;5;124mProvider\u001b[39m\u001b[38;5;124m'\u001b[39m]\u001b[38;5;241m.\u001b[39mvalue_counts()\u001b[38;5;241m.\u001b[39mindex\n\u001b[0;32m      5\u001b[0m \u001b[38;5;66;03m# Ensure we don't exceed available providers\u001b[39;00m\n\u001b[0;32m      6\u001b[0m num_batches \u001b[38;5;241m=\u001b[39m \u001b[38;5;28mmin\u001b[39m(max_batches, \u001b[38;5;28mint\u001b[39m(np\u001b[38;5;241m.\u001b[39mceil(\u001b[38;5;28mlen\u001b[39m(sorted_providers)\u001b[38;5;241m/\u001b[39mbatch_size)))\n",
      "\u001b[1;31mNameError\u001b[0m: name 'final_df_copy' is not defined"
     ]
    }
   ],
   "source": [
    "batch_size = 20 # 20 providers per batch\n",
    "max_batches = 10 # Only show 10 bbatches (200 providers)\n",
    "sorted_providers = final_df_copy['Provider'].value_counts().index\n",
    "\n",
    "# Ensure we don't exceed available providers\n",
    "num_batches = min(max_batches, int(np.ceil(len(sorted_providers)/batch_size)))\n",
    "\n",
    "# Loop we don't exceed available providers\n",
    "for i in range(num_batches):\n",
    "    batch_providers = sorted_providers[i * batch_size: (i + 1) * batch_size]  # Select 20 providers\n",
    "    plt.figure(figsize=(16,6))\n",
    "    sns.countplot(data=final_df_copy, x='Provider', hue='PotentialFraud', order=batch_providers)\n",
    "\n",
    "    plt.xticks(rotation=90)\n",
    "    plt.title(f'Provider Dictribution (Batch{i + 1})')\n",
    "    plt.show()"
   ]
  },
  {
   "cell_type": "code",
   "execution_count": 2,
   "id": "2be82c15",
   "metadata": {},
   "outputs": [
    {
     "ename": "NameError",
     "evalue": "name 'plt' is not defined",
     "output_type": "error",
     "traceback": [
      "\u001b[1;31m---------------------------------------------------------------------------\u001b[0m",
      "\u001b[1;31mNameError\u001b[0m                                 Traceback (most recent call last)",
      "Cell \u001b[1;32mIn[2], line 1\u001b[0m\n\u001b[1;32m----> 1\u001b[0m plt\u001b[38;5;241m.\u001b[39mfigure(figsize\u001b[38;5;241m=\u001b[39m(\u001b[38;5;241m12\u001b[39m,\u001b[38;5;241m12\u001b[39m))\n\u001b[0;32m      2\u001b[0m \u001b[38;5;28;01mfor\u001b[39;00m i, col \u001b[38;5;129;01min\u001b[39;00m \u001b[38;5;28menumerate\u001b[39m(chronic_cond, \u001b[38;5;241m1\u001b[39m):\n\u001b[0;32m      3\u001b[0m     plt\u001b[38;5;241m.\u001b[39msubplot(\u001b[38;5;241m4\u001b[39m,\u001b[38;5;241m3\u001b[39m,i)  \u001b[38;5;66;03m# Arranging in a 4X3 grid\u001b[39;00m\n",
      "\u001b[1;31mNameError\u001b[0m: name 'plt' is not defined"
     ]
    }
   ],
   "source": [
    "plt.figure(figsize=(12,12))\n",
    "for i, col in enumerate(chronic_cond, 1):\n",
    "    plt.subplot(4,3,i)  # Arranging in a 4X3 grid\n",
    "    sns.countplot(x=final_df_copy[col], palette='coolwarm')\n",
    "    plt.title(col)\n",
    "\n",
    "plt.tight_layout()\n",
    "plt.show()"
   ]
  }
 ],
 "metadata": {
  "kernelspec": {
   "display_name": "base",
   "language": "python",
   "name": "python3"
  },
  "language_info": {
   "codemirror_mode": {
    "name": "ipython",
    "version": 3
   },
   "file_extension": ".py",
   "mimetype": "text/x-python",
   "name": "python",
   "nbconvert_exporter": "python",
   "pygments_lexer": "ipython3",
   "version": "3.12.7"
  }
 },
 "nbformat": 4,
 "nbformat_minor": 5
}
